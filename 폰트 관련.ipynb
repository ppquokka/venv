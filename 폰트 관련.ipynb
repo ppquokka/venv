{
 "cells": [
  {
   "cell_type": "code",
   "execution_count": null,
   "metadata": {
    "colab": {
     "base_uri": "https://localhost:8080/"
    },
    "executionInfo": {
     "elapsed": 11,
     "status": "ok",
     "timestamp": 1689861767938,
     "user": {
      "displayName": "남경엄",
      "userId": "13954839946520643350"
     },
     "user_tz": -540
    },
    "id": "eziUucBACK6v",
    "outputId": "6f0af833-4e46-4fa0-eb65-c0ecbb49148f"
   },
   "outputs": [
    {
     "name": "stdout",
     "output_type": "stream",
     "text": [
      "/usr/share/fonts/truetype/liberation/LiberationMono-Bold.ttf\n",
      "/usr/share/fonts/truetype/liberation/LiberationSerif-Bold.ttf\n",
      "/usr/share/fonts/truetype/liberation/LiberationSans-Regular.ttf\n",
      "/usr/share/fonts/truetype/liberation/LiberationSansNarrow-Regular.ttf\n",
      "/usr/share/fonts/truetype/liberation/LiberationSerif-Italic.ttf\n",
      "/usr/share/fonts/truetype/liberation/LiberationSerif-BoldItalic.ttf\n",
      "/usr/share/fonts/truetype/humor-sans/Humor-Sans.ttf\n",
      "/usr/share/fonts/truetype/liberation/LiberationSans-Italic.ttf\n",
      "/usr/share/fonts/truetype/liberation/LiberationMono-Italic.ttf\n",
      "/usr/share/fonts/truetype/liberation/LiberationSans-Bold.ttf\n",
      "/usr/share/fonts/truetype/liberation/LiberationSans-BoldItalic.ttf\n",
      "/usr/share/fonts/truetype/liberation/LiberationSansNarrow-Italic.ttf\n",
      "/usr/share/fonts/truetype/liberation/LiberationSansNarrow-BoldItalic.ttf\n",
      "/usr/share/fonts/truetype/liberation/LiberationSerif-Regular.ttf\n",
      "/usr/share/fonts/truetype/liberation/LiberationSansNarrow-Bold.ttf\n",
      "/usr/share/fonts/truetype/liberation/LiberationMono-Regular.ttf\n",
      "/usr/share/fonts/truetype/liberation/LiberationMono-BoldItalic.ttf\n"
     ]
    }
   ],
   "source": [
    "# 현재 설치된 폰트 확인하는 코드\n",
    "\n",
    "import matplotlib.font_manager as fm\n",
    "\n",
    "font_list = fm.findSystemFonts()\n",
    "for font in font_list:\n",
    "    print(font)"
   ]
  },
  {
   "cell_type": "code",
   "execution_count": 1,
   "metadata": {
    "colab": {
     "base_uri": "https://localhost:8080/"
    },
    "executionInfo": {
     "elapsed": 492,
     "status": "ok",
     "timestamp": 1689861877411,
     "user": {
      "displayName": "남경엄",
      "userId": "13954839946520643350"
     },
     "user_tz": -540
    },
    "id": "iStPK0LyDAzw",
    "outputId": "48781494-550b-410e-857e-a5ef24827c2b"
   },
   "outputs": [
    {
     "name": "stdout",
     "output_type": "stream",
     "text": [
      "맑은 고딕 폰트를 찾을 수 없습니다.\n"
     ]
    }
   ],
   "source": [
    "# 맑은 고딕 폰트가 있는지 확인\n",
    "import matplotlib.font_manager as fm\n",
    "\n",
    "font_list = fm.findSystemFonts()\n",
    "for font in font_list:\n",
    "    if 'Malgun Gothic' in font:\n",
    "        print('맑은 고딕 폰트가 설치되어 있습니다.')\n",
    "        break\n",
    "else:\n",
    "    print('맑은 고딕 폰트를 찾을 수 없습니다.')"
   ]
  },
  {
   "cell_type": "code",
   "execution_count": 2,
   "metadata": {
    "colab": {
     "base_uri": "https://localhost:8080/"
    },
    "executionInfo": {
     "elapsed": 1586,
     "status": "ok",
     "timestamp": 1689861884025,
     "user": {
      "displayName": "남경엄",
      "userId": "13954839946520643350"
     },
     "user_tz": -540
    },
    "id": "WF7PiSt1Da_O",
    "outputId": "7eb73d12-a8b7-4260-b94c-a9290fa20e36"
   },
   "outputs": [
    {
     "name": "stdout",
     "output_type": "stream",
     "text": [
      "맑은 고딕 폰트가 성공적으로 설치되었습니다.\n"
     ]
    }
   ],
   "source": [
    "# 맑은 고딕 폰트 설치\n",
    "\n",
    "import requests\n",
    "import os\n",
    "\n",
    "# 맑은 고딕 글꼴 파일 URL (ttf)\n",
    "url = 'https://docs.google.com/uc?export=download&id=1Eido_qlmRQDquU2XRBRzUIB3lJbGsTp2'\n",
    "\n",
    "# 저장할 로컬 경로 및 파일명 지정\n",
    "save_path = os.path.expanduser('~') + '/MalgunGothic.ttf'\n",
    "\n",
    "# URL에서 파일 다운로드하여 로컬에 저장하기\n",
    "response = requests.get(url)\n",
    "with open(save_path, 'wb') as f:\n",
    "    f.write(response.content)\n",
    "\n",
    "print('맑은 고딕 폰트가 성공적으로 설치되었습니다.')"
   ]
  },
  {
   "cell_type": "code",
   "execution_count": null,
   "metadata": {},
   "outputs": [],
   "source": []
  }
 ],
 "metadata": {
  "colab": {
   "provenance": [
    {
     "file_id": "1ZS77r-Gg-gIirklYODMvlXoqdcJu0wrF",
     "timestamp": 1689861904750
    },
    {
     "file_id": "1PpH9McWwDLNsk-2vse0nFVOc2u561diC",
     "timestamp": 1686866604455
    }
   ]
  },
  "kernelspec": {
   "display_name": "Python 3 (ipykernel)",
   "language": "python",
   "name": "python3"
  },
  "language_info": {
   "codemirror_mode": {
    "name": "ipython",
    "version": 3
   },
   "file_extension": ".py",
   "mimetype": "text/x-python",
   "name": "python",
   "nbconvert_exporter": "python",
   "pygments_lexer": "ipython3",
   "version": "3.11.4"
  }
 },
 "nbformat": 4,
 "nbformat_minor": 4
}
