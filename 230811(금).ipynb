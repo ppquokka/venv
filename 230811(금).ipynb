{
 "cells": [
  {
   "cell_type": "code",
   "execution_count": 64,
   "id": "457ac6f2-88ae-48ca-aab1-27bae20d78e4",
   "metadata": {},
   "outputs": [
    {
     "name": "stdout",
     "output_type": "stream",
     "text": [
      "Requirement already satisfied: selenium in c:\\users\\admin\\appdata\\local\\programs\\python\\python311\\lib\\site-packages (4.11.2)\n",
      "Requirement already satisfied: urllib3[socks]<3,>=1.26 in c:\\users\\admin\\appdata\\local\\programs\\python\\python311\\lib\\site-packages (from selenium) (2.0.4)\n",
      "Requirement already satisfied: trio~=0.17 in c:\\users\\admin\\appdata\\local\\programs\\python\\python311\\lib\\site-packages (from selenium) (0.22.2)\n",
      "Requirement already satisfied: trio-websocket~=0.9 in c:\\users\\admin\\appdata\\local\\programs\\python\\python311\\lib\\site-packages (from selenium) (0.10.3)\n",
      "Requirement already satisfied: certifi>=2021.10.8 in c:\\users\\admin\\appdata\\local\\programs\\python\\python311\\lib\\site-packages (from selenium) (2023.7.22)\n",
      "Requirement already satisfied: attrs>=20.1.0 in c:\\users\\admin\\appdata\\local\\programs\\python\\python311\\lib\\site-packages (from trio~=0.17->selenium) (23.1.0)\n",
      "Requirement already satisfied: sortedcontainers in c:\\users\\admin\\appdata\\local\\programs\\python\\python311\\lib\\site-packages (from trio~=0.17->selenium) (2.4.0)\n",
      "Requirement already satisfied: idna in c:\\users\\admin\\appdata\\local\\programs\\python\\python311\\lib\\site-packages (from trio~=0.17->selenium) (3.4)\n",
      "Requirement already satisfied: outcome in c:\\users\\admin\\appdata\\local\\programs\\python\\python311\\lib\\site-packages (from trio~=0.17->selenium) (1.2.0)\n",
      "Requirement already satisfied: sniffio in c:\\users\\admin\\appdata\\local\\programs\\python\\python311\\lib\\site-packages (from trio~=0.17->selenium) (1.3.0)\n",
      "Requirement already satisfied: cffi>=1.14 in c:\\users\\admin\\appdata\\local\\programs\\python\\python311\\lib\\site-packages (from trio~=0.17->selenium) (1.15.1)\n",
      "Requirement already satisfied: exceptiongroup in c:\\users\\admin\\appdata\\local\\programs\\python\\python311\\lib\\site-packages (from trio-websocket~=0.9->selenium) (1.1.2)\n",
      "Requirement already satisfied: wsproto>=0.14 in c:\\users\\admin\\appdata\\local\\programs\\python\\python311\\lib\\site-packages (from trio-websocket~=0.9->selenium) (1.2.0)\n",
      "Requirement already satisfied: pysocks!=1.5.7,<2.0,>=1.5.6 in c:\\users\\admin\\appdata\\local\\programs\\python\\python311\\lib\\site-packages (from urllib3[socks]<3,>=1.26->selenium) (1.7.1)\n",
      "Requirement already satisfied: pycparser in c:\\users\\admin\\appdata\\local\\programs\\python\\python311\\lib\\site-packages (from cffi>=1.14->trio~=0.17->selenium) (2.21)\n",
      "Requirement already satisfied: h11<1,>=0.9.0 in c:\\users\\admin\\appdata\\local\\programs\\python\\python311\\lib\\site-packages (from wsproto>=0.14->trio-websocket~=0.9->selenium) (0.14.0)\n"
     ]
    },
    {
     "name": "stderr",
     "output_type": "stream",
     "text": [
      "\n",
      "[notice] A new release of pip is available: 23.1.2 -> 23.2.1\n",
      "[notice] To update, run: python.exe -m pip install --upgrade pip\n"
     ]
    }
   ],
   "source": [
    "!pip install selenium"
   ]
  },
  {
   "cell_type": "code",
   "execution_count": 3,
   "id": "f9614f17-9549-4adb-87a6-9ca67bf3b547",
   "metadata": {},
   "outputs": [
    {
     "name": "stdout",
     "output_type": "stream",
     "text": [
      "4.11.2\n"
     ]
    }
   ],
   "source": [
    "import selenium\n",
    "print(selenium.__version__)"
   ]
  },
  {
   "cell_type": "code",
   "execution_count": 11,
   "id": "447bd4c3-5e1d-4460-b6bb-6b8b5b53cbfc",
   "metadata": {},
   "outputs": [],
   "source": [
    "from selenium import webdriver\n",
    "browser=webdriver.Chrome()"
   ]
  },
  {
   "cell_type": "code",
   "execution_count": 46,
   "id": "231f8e93-3b6a-4210-b402-d4ecaac21fbf",
   "metadata": {},
   "outputs": [],
   "source": [
    "browser.get(\"http://naver.com\")"
   ]
  },
  {
   "cell_type": "code",
   "execution_count": 28,
   "id": "758bbd27-b3f0-4961-bd15-cadb1c6876bd",
   "metadata": {},
   "outputs": [],
   "source": [
    "from selenium.webdriver.common.by import By\n",
    "from selenium.webdriver.common.keys import Keys\n",
    "#\"MyView-module__link_login___HpHMW\"\n",
    "elem = browser.find_element(by=By.CLASS_NAME, value=\"MyView-module__link_login___HpHMW\")\n",
    "elem.click()"
   ]
  },
  {
   "cell_type": "code",
   "execution_count": 38,
   "id": "1b67d480-9f92-47a8-8467-af1815996314",
   "metadata": {},
   "outputs": [],
   "source": [
    "browser.back()"
   ]
  },
  {
   "cell_type": "code",
   "execution_count": 47,
   "id": "9a4f5e17-fd20-4f3b-95f7-bc6c7a8bc96f",
   "metadata": {},
   "outputs": [],
   "source": [
    "# 검색창 element찾기:   input태그, id=query\n",
    "elem = browser.find_element(by=By.ID, value=\"query\")\n",
    "# 아무것도 안나옴 ㅇㅇ"
   ]
  },
  {
   "cell_type": "code",
   "execution_count": 41,
   "id": "27d11772-e6d6-4b6f-9d3f-8d8d63026aab",
   "metadata": {},
   "outputs": [],
   "source": [
    "# 검색어 입력하기\n",
    "elem.send_keys(\"태풍\")"
   ]
  },
  {
   "cell_type": "code",
   "execution_count": 42,
   "id": "d18e4e6c-b24e-49fb-8fb7-afb25538457a",
   "metadata": {},
   "outputs": [],
   "source": [
    "elem.send_keys(Keys.ENTER)"
   ]
  },
  {
   "cell_type": "code",
   "execution_count": 45,
   "id": "66950427-b06b-4480-8853-deac688b262c",
   "metadata": {},
   "outputs": [],
   "source": [
    "browser.back()"
   ]
  },
  {
   "cell_type": "code",
   "execution_count": 49,
   "id": "a294d4ad-06e6-4d64-ac25-1cd1c6dfa1a0",
   "metadata": {},
   "outputs": [],
   "source": [
    "elem = browser.find_element(by=By.XPATH, value='//*[@id=\"query\"]')"
   ]
  },
  {
   "cell_type": "code",
   "execution_count": 50,
   "id": "fb300b78-f06b-4add-86b2-acf47ef7f09f",
   "metadata": {},
   "outputs": [],
   "source": [
    "elem.send_keys(\"직장내 괴롭힘\")\n",
    "elem.send_keys(Keys.ENTER)"
   ]
  },
  {
   "cell_type": "code",
   "execution_count": 53,
   "id": "7ea8756b-aa7f-4e21-82ce-ef485d4fc90e",
   "metadata": {},
   "outputs": [],
   "source": [
    "browser.back\n",
    "browser.close()"
   ]
  },
  {
   "cell_type": "raw",
   "id": "759bcdcc-4232-4f12-9c81-2b8c0c57817c",
   "metadata": {},
   "source": [
    "## 클론을 만들어서 매일 스크랩해서 정보 모으기 : 규칙적인 크롤러 만들기"
   ]
  },
  {
   "cell_type": "code",
   "execution_count": 13,
   "id": "8c3dcd79-6c93-45bf-be09-901df365d1cb",
   "metadata": {},
   "outputs": [],
   "source": [
    "browser=webdriver.Chrome()\n",
    "browser.get(\"http://daum.net\")"
   ]
  },
  {
   "cell_type": "code",
   "execution_count": 14,
   "id": "e5c3c2cb-845a-4687-bdfd-4b6f3c45fa8d",
   "metadata": {},
   "outputs": [
    {
     "name": "stdout",
     "output_type": "stream",
     "text": [
      "['', '', '', '', '', '', '', '', '', '', '', '', '', '', '', '', '', '', '', '', '', '', '', '', '', '', '', '', '', '', '', '', '', '', '', '', '', '', '', ''] [0, 0, 0, 0, 0, 0, 0, 0, 0, 0, 0, 0, 0, 0, 0, 0, 0, 0, 0, 0, 0, 0, 0, 0, 0, 0, 0, 0, 0, 0, 0, 0, 0, 0, 0, 0, 0, 0, 0, 0]\n"
     ]
    }
   ],
   "source": [
    "# \"#entertainTab > a\"\n",
    "# \"#sportsTab > a\"\n",
    "# \"#movieTab > a\"\n",
    "# \"#autoTab > a\"\n",
    "# \"#realestateTab > a\"\n",
    "# > 이 밑에 있는 것을 선택하고싶을 때, > a.점은 a안의 속성을 보고싶을 때 사용\n",
    "import time     #움직이는 시간 걸기\n",
    "\n",
    "[\"entertainTab\", \"sportsTab\", \"movieTab\", \"autoTab\", \"realestateTab\"]\n",
    "tab = \"entertainTab\"\n",
    "elem = browser.find_element(By.CSS_SELECTOR, f\"#{tab} > a\")\n",
    "elem.click()\n",
    "time.sleep(1)     #1초\n",
    "lis = browser.find_elements(By.CSS_SELECTOR, \".list_txt > li > a.link_txt\")    \n",
    "# .하고 들어가면 class 속성임\n",
    "# browser.find_elements(by=BY.CLASS_NAME, value=\"link_txt\")  다 찾을땐 s를 붙인다\n",
    "news=[]\n",
    "label=[]\n",
    "for li in lis:\n",
    "    if len(li.text):\n",
    "        continue\n",
    "    news.append(li.text)\n",
    "    label.append(0)\n",
    "\n",
    "print(news, label)\n",
    "browser.close()"
   ]
  },
  {
   "cell_type": "code",
   "execution_count": 1,
   "id": "ce0d8af7-6d17-49c8-920f-69eecd878e2a",
   "metadata": {},
   "outputs": [
    {
     "name": "stdout",
     "output_type": "stream",
     "text": [
      "entertainTab\n",
      "['권진영 \"다시 태어나면 오서방 안 만나, 그 귀여움이 살짝 질려\" (철파엠)', '미친감성 \"1980년대 최고의 히트곡, 아이돌 원조 소방차의 \\'어젯밤 이야기\\'\" (철파엠)', '이연수 \"김부용 분식집 2호 사장 됐다\" 특별한 인연 공개[살아있네]', \"'무빙' 이정하·고윤정, '500억 대작' 포문 연 신예들\", \"'미스터로또' 황민우, 진격의 교우관계 [TV온에어]\", '\\'달짝지근해\\' 김희선 \"욕설 연기? 청순한 날 왜 그렇게 만들었을까\"(인터뷰)', '박술녀, 한복 택갈이 의혹에 눈물로 직접 호소 \"자존심 무너져, 맹세코 없는 일\"[TEN이슈]', \"10㎏ 증량 박해진 완벽 변신, '국민사형투표' 첫 등장부터 강렬\", '이효리 \"동생들 앞길 위안이…언니들은 자신 뒷모습 사랑하길\" (유랑단)[TV종합]', '아이바오 산고 끝 쌍둥이 판다 출산, 단단히 토라진 푸바오 무슨일? (TV동물농장)'] [0, 0, 0, 0, 0, 0, 0, 0, 0, 0]\n",
      "sportsTab\n",
      "['권진영 \"다시 태어나면 오서방 안 만나, 그 귀여움이 살짝 질려\" (철파엠)', '미친감성 \"1980년대 최고의 히트곡, 아이돌 원조 소방차의 \\'어젯밤 이야기\\'\" (철파엠)', '이연수 \"김부용 분식집 2호 사장 됐다\" 특별한 인연 공개[살아있네]', \"'무빙' 이정하·고윤정, '500억 대작' 포문 연 신예들\", \"'미스터로또' 황민우, 진격의 교우관계 [TV온에어]\", '\\'달짝지근해\\' 김희선 \"욕설 연기? 청순한 날 왜 그렇게 만들었을까\"(인터뷰)', '박술녀, 한복 택갈이 의혹에 눈물로 직접 호소 \"자존심 무너져, 맹세코 없는 일\"[TEN이슈]', \"10㎏ 증량 박해진 완벽 변신, '국민사형투표' 첫 등장부터 강렬\", '이효리 \"동생들 앞길 위안이…언니들은 자신 뒷모습 사랑하길\" (유랑단)[TV종합]', '아이바오 산고 끝 쌍둥이 판다 출산, 단단히 토라진 푸바오 무슨일? (TV동물농장)', \"'졌지만 잘 싸웠다' 사상 첫 결승 진출 노렸던 男U19, 이란에 역전패..미국과 3·4위전→30년 만에 3위 도전\", \"황인범 충격의 이적 선언...'팀보다 위대한 선수 없다' 올림피아코스는 분노→법정 소송도 불사\", '\"RYU 무릎, 더는 종아리 2개로 보이지 않아\"..쓰러졌던 류현진 이상無! 14일 컵스전 출격', \"SSG, 이마트 30주년 기념 '이마트 데이' 실시\", '\"오랫동안 IOC 선수위원이 되는 것을 기다려왔어\" 박인비 500㎞ 걸을 준비 마쳤다', '케인, 손흥민 떠난다!...토트넘과 결별→뮌헨 4년 계약-메디컬 테스트+김민재 동료 임박', '\"김하성 이미 ML 최고선수 중 1명\" 美 현지의 찬사 \"놀라운 대반전 일어났다\"', '\"이정후 스카우트 평가 엇갈린다, 3할 타자도 상상\" 美 매체 선정 FA 랭킹 27위', \"'한국 대표 안암 호랑이' 고려대, 11일 미국 대학과 첫 경기[월드대학농구시리즈]\", '\"황인범에 법적 대응한다...올림피아코스 단단히 화났어\" 이적 요청이 무슨 문제?'] [0, 0, 0, 0, 0, 0, 0, 0, 0, 0, 0, 0, 0, 0, 0, 0, 0, 0, 0, 0]\n",
      "movieTab\n",
      "['권진영 \"다시 태어나면 오서방 안 만나, 그 귀여움이 살짝 질려\" (철파엠)', '미친감성 \"1980년대 최고의 히트곡, 아이돌 원조 소방차의 \\'어젯밤 이야기\\'\" (철파엠)', '이연수 \"김부용 분식집 2호 사장 됐다\" 특별한 인연 공개[살아있네]', \"'무빙' 이정하·고윤정, '500억 대작' 포문 연 신예들\", \"'미스터로또' 황민우, 진격의 교우관계 [TV온에어]\", '\\'달짝지근해\\' 김희선 \"욕설 연기? 청순한 날 왜 그렇게 만들었을까\"(인터뷰)', '박술녀, 한복 택갈이 의혹에 눈물로 직접 호소 \"자존심 무너져, 맹세코 없는 일\"[TEN이슈]', \"10㎏ 증량 박해진 완벽 변신, '국민사형투표' 첫 등장부터 강렬\", '이효리 \"동생들 앞길 위안이…언니들은 자신 뒷모습 사랑하길\" (유랑단)[TV종합]', '아이바오 산고 끝 쌍둥이 판다 출산, 단단히 토라진 푸바오 무슨일? (TV동물농장)', \"'졌지만 잘 싸웠다' 사상 첫 결승 진출 노렸던 男U19, 이란에 역전패..미국과 3·4위전→30년 만에 3위 도전\", \"황인범 충격의 이적 선언...'팀보다 위대한 선수 없다' 올림피아코스는 분노→법정 소송도 불사\", '\"RYU 무릎, 더는 종아리 2개로 보이지 않아\"..쓰러졌던 류현진 이상無! 14일 컵스전 출격', \"SSG, 이마트 30주년 기념 '이마트 데이' 실시\", '\"오랫동안 IOC 선수위원이 되는 것을 기다려왔어\" 박인비 500㎞ 걸을 준비 마쳤다', '케인, 손흥민 떠난다!...토트넘과 결별→뮌헨 4년 계약-메디컬 테스트+김민재 동료 임박', '\"김하성 이미 ML 최고선수 중 1명\" 美 현지의 찬사 \"놀라운 대반전 일어났다\"', '\"이정후 스카우트 평가 엇갈린다, 3할 타자도 상상\" 美 매체 선정 FA 랭킹 27위', \"'한국 대표 안암 호랑이' 고려대, 11일 미국 대학과 첫 경기[월드대학농구시리즈]\", '\"황인범에 법적 대응한다...올림피아코스 단단히 화났어\" 이적 요청이 무슨 문제?', '신파 없어도 재미있는 한국 재난 영화 리뷰', '한국 영화의 도식을 살리는 법 <밀수>, 류승완', '웹툰 원작자도 극찬한 이병헌...\"나도 이렇게 그릴걸\" [\\'콘유\\'③]', \"'상견니' 제작진 참여 '일주일간 친구' 9월 6일 개봉…풋풋한 청춘의 순간\", \"벤 애플렉 X 로버트 로드리게즈 감독 '힙노틱' 9월 개봉 확정 및 티저 포스터 공개\", \"정동진영화제, 관객 8147명 동원 …'수능을 치려면' 등 3편 땡그랑동전상 수상\", \"여름 시네마 최종장…'콘크리트 유토피아' vs '밀수' 2파전\", '\"가이 리치 감독 \\'젠틀맨\\' 내 각본 표절\" 3억원↑ 저작권 소송[할리우드비하인드]', '독배일까 성배일까... 제천음악영화제 새로운 수장의 각오', 'CJ ENM 2년 연속 여름 시장 대패, 韓 영화 위기 어쩌나 [무비노트]'] [0, 0, 0, 0, 0, 0, 0, 0, 0, 0, 0, 0, 0, 0, 0, 0, 0, 0, 0, 0, 0, 0, 0, 0, 0, 0, 0, 0, 0, 0]\n",
      "autoTab\n",
      "['권진영 \"다시 태어나면 오서방 안 만나, 그 귀여움이 살짝 질려\" (철파엠)', '미친감성 \"1980년대 최고의 히트곡, 아이돌 원조 소방차의 \\'어젯밤 이야기\\'\" (철파엠)', '이연수 \"김부용 분식집 2호 사장 됐다\" 특별한 인연 공개[살아있네]', \"'무빙' 이정하·고윤정, '500억 대작' 포문 연 신예들\", \"'미스터로또' 황민우, 진격의 교우관계 [TV온에어]\", '\\'달짝지근해\\' 김희선 \"욕설 연기? 청순한 날 왜 그렇게 만들었을까\"(인터뷰)', '박술녀, 한복 택갈이 의혹에 눈물로 직접 호소 \"자존심 무너져, 맹세코 없는 일\"[TEN이슈]', \"10㎏ 증량 박해진 완벽 변신, '국민사형투표' 첫 등장부터 강렬\", '이효리 \"동생들 앞길 위안이…언니들은 자신 뒷모습 사랑하길\" (유랑단)[TV종합]', '아이바오 산고 끝 쌍둥이 판다 출산, 단단히 토라진 푸바오 무슨일? (TV동물농장)', \"'졌지만 잘 싸웠다' 사상 첫 결승 진출 노렸던 男U19, 이란에 역전패..미국과 3·4위전→30년 만에 3위 도전\", \"황인범 충격의 이적 선언...'팀보다 위대한 선수 없다' 올림피아코스는 분노→법정 소송도 불사\", '\"RYU 무릎, 더는 종아리 2개로 보이지 않아\"..쓰러졌던 류현진 이상無! 14일 컵스전 출격', \"SSG, 이마트 30주년 기념 '이마트 데이' 실시\", '\"오랫동안 IOC 선수위원이 되는 것을 기다려왔어\" 박인비 500㎞ 걸을 준비 마쳤다', '케인, 손흥민 떠난다!...토트넘과 결별→뮌헨 4년 계약-메디컬 테스트+김민재 동료 임박', '\"김하성 이미 ML 최고선수 중 1명\" 美 현지의 찬사 \"놀라운 대반전 일어났다\"', '\"이정후 스카우트 평가 엇갈린다, 3할 타자도 상상\" 美 매체 선정 FA 랭킹 27위', \"'한국 대표 안암 호랑이' 고려대, 11일 미국 대학과 첫 경기[월드대학농구시리즈]\", '\"황인범에 법적 대응한다...올림피아코스 단단히 화났어\" 이적 요청이 무슨 문제?', '신파 없어도 재미있는 한국 재난 영화 리뷰', '한국 영화의 도식을 살리는 법 <밀수>, 류승완', '웹툰 원작자도 극찬한 이병헌...\"나도 이렇게 그릴걸\" [\\'콘유\\'③]', \"'상견니' 제작진 참여 '일주일간 친구' 9월 6일 개봉…풋풋한 청춘의 순간\", \"벤 애플렉 X 로버트 로드리게즈 감독 '힙노틱' 9월 개봉 확정 및 티저 포스터 공개\", \"정동진영화제, 관객 8147명 동원 …'수능을 치려면' 등 3편 땡그랑동전상 수상\", \"여름 시네마 최종장…'콘크리트 유토피아' vs '밀수' 2파전\", '\"가이 리치 감독 \\'젠틀맨\\' 내 각본 표절\" 3억원↑ 저작권 소송[할리우드비하인드]', '독배일까 성배일까... 제천음악영화제 새로운 수장의 각오', 'CJ ENM 2년 연속 여름 시장 대패, 韓 영화 위기 어쩌나 [무비노트]', \"1,031km 세계 최장 전기차 '2023 지커 001', 이 차를 中 지리가 만들었다고?\", '개발진이 밝힌 신형 싼타페 특징은?..\"최대 공간감\"', \"테슬라 부분변경 '모델 3' 신규 대시보드 디자인 소셜미디어 유출\", '엔비디아 옴니버스 클라우드, 덴자-WPP 첨단 자동차 컨피규레이터 구축과 배포에 채택', '기아가 중국서 공개할 전기 SUV \\'EV5\\'..\"EV9 쏙 빼닮았다!\"', '\"앗 나의 실수\"... C 63에 4기통 넣었던 AMG, 다시 8기통 탑재', \"람보르기니, 미국에서 첫 전기 콘셉트카 공개 예고 '전동화 전환 박차'\", '중국 7월 승용차 생산과 판매 소폭감소, 수출과 전동화차는 큰폭 증가', '줄줄이 북상하는 태풍에 日 공장 가동 중단', 'KIA EV9, 3열 패밀리 전동화 SUV의 시대를 열다.'] [0, 0, 0, 0, 0, 0, 0, 0, 0, 0, 0, 0, 0, 0, 0, 0, 0, 0, 0, 0, 0, 0, 0, 0, 0, 0, 0, 0, 0, 0, 0, 0, 0, 0, 0, 0, 0, 0, 0, 0]\n",
      "realestateTab\n",
      "['권진영 \"다시 태어나면 오서방 안 만나, 그 귀여움이 살짝 질려\" (철파엠)', '미친감성 \"1980년대 최고의 히트곡, 아이돌 원조 소방차의 \\'어젯밤 이야기\\'\" (철파엠)', '이연수 \"김부용 분식집 2호 사장 됐다\" 특별한 인연 공개[살아있네]', \"'무빙' 이정하·고윤정, '500억 대작' 포문 연 신예들\", \"'미스터로또' 황민우, 진격의 교우관계 [TV온에어]\", '\\'달짝지근해\\' 김희선 \"욕설 연기? 청순한 날 왜 그렇게 만들었을까\"(인터뷰)', '박술녀, 한복 택갈이 의혹에 눈물로 직접 호소 \"자존심 무너져, 맹세코 없는 일\"[TEN이슈]', \"10㎏ 증량 박해진 완벽 변신, '국민사형투표' 첫 등장부터 강렬\", '이효리 \"동생들 앞길 위안이…언니들은 자신 뒷모습 사랑하길\" (유랑단)[TV종합]', '아이바오 산고 끝 쌍둥이 판다 출산, 단단히 토라진 푸바오 무슨일? (TV동물농장)', \"'졌지만 잘 싸웠다' 사상 첫 결승 진출 노렸던 男U19, 이란에 역전패..미국과 3·4위전→30년 만에 3위 도전\", \"황인범 충격의 이적 선언...'팀보다 위대한 선수 없다' 올림피아코스는 분노→법정 소송도 불사\", '\"RYU 무릎, 더는 종아리 2개로 보이지 않아\"..쓰러졌던 류현진 이상無! 14일 컵스전 출격', \"SSG, 이마트 30주년 기념 '이마트 데이' 실시\", '\"오랫동안 IOC 선수위원이 되는 것을 기다려왔어\" 박인비 500㎞ 걸을 준비 마쳤다', '케인, 손흥민 떠난다!...토트넘과 결별→뮌헨 4년 계약-메디컬 테스트+김민재 동료 임박', '\"김하성 이미 ML 최고선수 중 1명\" 美 현지의 찬사 \"놀라운 대반전 일어났다\"', '\"이정후 스카우트 평가 엇갈린다, 3할 타자도 상상\" 美 매체 선정 FA 랭킹 27위', \"'한국 대표 안암 호랑이' 고려대, 11일 미국 대학과 첫 경기[월드대학농구시리즈]\", '\"황인범에 법적 대응한다...올림피아코스 단단히 화났어\" 이적 요청이 무슨 문제?', '신파 없어도 재미있는 한국 재난 영화 리뷰', '한국 영화의 도식을 살리는 법 <밀수>, 류승완', '웹툰 원작자도 극찬한 이병헌...\"나도 이렇게 그릴걸\" [\\'콘유\\'③]', \"'상견니' 제작진 참여 '일주일간 친구' 9월 6일 개봉…풋풋한 청춘의 순간\", \"벤 애플렉 X 로버트 로드리게즈 감독 '힙노틱' 9월 개봉 확정 및 티저 포스터 공개\", \"정동진영화제, 관객 8147명 동원 …'수능을 치려면' 등 3편 땡그랑동전상 수상\", \"여름 시네마 최종장…'콘크리트 유토피아' vs '밀수' 2파전\", '\"가이 리치 감독 \\'젠틀맨\\' 내 각본 표절\" 3억원↑ 저작권 소송[할리우드비하인드]', '독배일까 성배일까... 제천음악영화제 새로운 수장의 각오', 'CJ ENM 2년 연속 여름 시장 대패, 韓 영화 위기 어쩌나 [무비노트]', \"1,031km 세계 최장 전기차 '2023 지커 001', 이 차를 中 지리가 만들었다고?\", '개발진이 밝힌 신형 싼타페 특징은?..\"최대 공간감\"', \"테슬라 부분변경 '모델 3' 신규 대시보드 디자인 소셜미디어 유출\", '엔비디아 옴니버스 클라우드, 덴자-WPP 첨단 자동차 컨피규레이터 구축과 배포에 채택', '기아가 중국서 공개할 전기 SUV \\'EV5\\'..\"EV9 쏙 빼닮았다!\"', '\"앗 나의 실수\"... C 63에 4기통 넣었던 AMG, 다시 8기통 탑재', \"람보르기니, 미국에서 첫 전기 콘셉트카 공개 예고 '전동화 전환 박차'\", '중국 7월 승용차 생산과 판매 소폭감소, 수출과 전동화차는 큰폭 증가', '줄줄이 북상하는 태풍에 日 공장 가동 중단', 'KIA EV9, 3열 패밀리 전동화 SUV의 시대를 열다.', '서울시 지역주택조합 111곳 전수조사..법 위반 시 강력 조치', '국토부, 안성 공사현장 붕괴 현장에 인력 급파...\"인명피해 최소화\"', '7월 청약시장 서울만 웃었다', '\"재택근무 기업들 사무실로 복귀\" 서울 오피스 공실률 1.8%', '서울 아파트 매수심리 23주 연속 올랐다..지방도 상승', \"서울 신축 대단지가 '22평 6억'도 안 팔린다는데..이유는?\", '규제완화·금리하락..주택 매수심리 회복 조짐', '분양가보다 50%↑..구의역 나홀로아파트 보류지 7억대에 나왔다', '9월부터 SRT 경전·전라·동해선 개통..하루 왕복 2회', '부동산 지표 살아나는 \\'대구\\'.. \"시장 회복이라 보긴 이르다\"'] [0, 0, 0, 0, 0, 0, 0, 0, 0, 0, 0, 0, 0, 0, 0, 0, 0, 0, 0, 0, 0, 0, 0, 0, 0, 0, 0, 0, 0, 0, 0, 0, 0, 0, 0, 0, 0, 0, 0, 0, 0, 0, 0, 0, 0, 0, 0, 0, 0, 0]\n"
     ]
    }
   ],
   "source": [
    "# 팀원 정답안\n",
    "\n",
    "from selenium import webdriver\n",
    "from selenium.webdriver.common.by import By\n",
    "from selenium.webdriver.common.keys import Keys\n",
    "import time\n",
    "\n",
    "browser = webdriver.Chrome()\n",
    "browser.get('http://daum.net')\n",
    "\n",
    "news =[]\n",
    "label = []\n",
    "tabs = ['entertainTab', 'sportsTab', 'movieTab', 'autoTab', 'realestateTab']\n",
    "for tab in tabs:\n",
    "    print(tab)\n",
    "    elem = browser.find_element(By.CSS_SELECTOR, f\"#{tab} > a\")\n",
    "    elem.click()\n",
    "    time.sleep(1)\n",
    "    lis = browser.find_elements(By.CSS_SELECTOR, \".list_txt > li > a.link_txt\")\n",
    "    # lis = browser.find_elements(by=By.CLASS_NAME, value=\"link_txt\")\n",
    "    for i, li in enumerate(lis):\n",
    "        if len(li.text) <= 1:\n",
    "            continue\n",
    "        news.append(li.text)\n",
    "        label.append(0)\n",
    "    print(news, label)\n",
    "browser.close()"
   ]
  },
  {
   "cell_type": "code",
   "execution_count": 31,
   "id": "19d3ea35-cd34-4486-8314-f9557e37aba4",
   "metadata": {},
   "outputs": [
    {
     "name": "stdout",
     "output_type": "stream",
     "text": [
      "200 200\n"
     ]
    }
   ],
   "source": [
    "browser=webdriver.Chrome()\n",
    "browser.get(\"http://daum.net\")\n",
    "# \"#entertainTab > a\"\n",
    "# \"#sportsTab > a\"\n",
    "# \"#movieTab > a\"\n",
    "# \"#autoTab > a\"\n",
    "# \"#realestateTab > a\"\n",
    "# > 이 밑에 있는 것을 선택하고싶을 때, > a.점은 a안의 속성을 보고싶을 때 사용\n",
    "import time     #움직이는 시간 걸기\n",
    "\n",
    "tab_list=[\"entertainTab\", \"sportsTab\", \"movieTab\", \"autoTab\", \"realestateTab\"]\n",
    "news=[]\n",
    "label=[]\n",
    "\n",
    "for i, tab in enumerate(tab_list):\n",
    "    elem = browser.find_element(By.CSS_SELECTOR, f\"#{tab} > a\")\n",
    "    elem.click()\n",
    "    time.sleep(1)     #1초\n",
    "    lis = browser.find_elements(By.CSS_SELECTOR, \".list_txt > li > a.link_txt\")    \n",
    "# .하고 들어가면 class 속성임\n",
    "# browser.find_elements(by=BY.CLASS_NAME, value=\"link_txt\")  다 찾을땐 s를 붙인다\n",
    "\n",
    "    for li in lis:\n",
    "        if len(li.text):\n",
    "            continue\n",
    "        news.append(li.text)\n",
    "        label.append(i)\n",
    "\n",
    "browser.close()\n",
    "print(len(news), len(label))"
   ]
  },
  {
   "cell_type": "code",
   "execution_count": 32,
   "id": "34aedbe1-9925-484a-a11f-f2d90c5d138f",
   "metadata": {},
   "outputs": [],
   "source": [
    "import pandas as pd\n",
    "pd.DataFrame({\"news\":news, \"label\":label}).to_csv(\"news.csv\", encoding=\"utf-8-sig\")"
   ]
  },
  {
   "cell_type": "code",
   "execution_count": 33,
   "id": "8e14c08c-c1b5-453d-8387-b84a1f0051d8",
   "metadata": {},
   "outputs": [
    {
     "data": {
      "text/html": [
       "<div>\n",
       "<style scoped>\n",
       "    .dataframe tbody tr th:only-of-type {\n",
       "        vertical-align: middle;\n",
       "    }\n",
       "\n",
       "    .dataframe tbody tr th {\n",
       "        vertical-align: top;\n",
       "    }\n",
       "\n",
       "    .dataframe thead th {\n",
       "        text-align: right;\n",
       "    }\n",
       "</style>\n",
       "<table border=\"1\" class=\"dataframe\">\n",
       "  <thead>\n",
       "    <tr style=\"text-align: right;\">\n",
       "      <th></th>\n",
       "      <th>news</th>\n",
       "      <th>label</th>\n",
       "    </tr>\n",
       "  </thead>\n",
       "  <tbody>\n",
       "    <tr>\n",
       "      <th>0</th>\n",
       "      <td></td>\n",
       "      <td>0</td>\n",
       "    </tr>\n",
       "    <tr>\n",
       "      <th>1</th>\n",
       "      <td></td>\n",
       "      <td>0</td>\n",
       "    </tr>\n",
       "    <tr>\n",
       "      <th>2</th>\n",
       "      <td></td>\n",
       "      <td>0</td>\n",
       "    </tr>\n",
       "    <tr>\n",
       "      <th>3</th>\n",
       "      <td></td>\n",
       "      <td>0</td>\n",
       "    </tr>\n",
       "    <tr>\n",
       "      <th>4</th>\n",
       "      <td></td>\n",
       "      <td>0</td>\n",
       "    </tr>\n",
       "    <tr>\n",
       "      <th>...</th>\n",
       "      <td>...</td>\n",
       "      <td>...</td>\n",
       "    </tr>\n",
       "    <tr>\n",
       "      <th>195</th>\n",
       "      <td></td>\n",
       "      <td>4</td>\n",
       "    </tr>\n",
       "    <tr>\n",
       "      <th>196</th>\n",
       "      <td></td>\n",
       "      <td>4</td>\n",
       "    </tr>\n",
       "    <tr>\n",
       "      <th>197</th>\n",
       "      <td></td>\n",
       "      <td>4</td>\n",
       "    </tr>\n",
       "    <tr>\n",
       "      <th>198</th>\n",
       "      <td></td>\n",
       "      <td>4</td>\n",
       "    </tr>\n",
       "    <tr>\n",
       "      <th>199</th>\n",
       "      <td></td>\n",
       "      <td>4</td>\n",
       "    </tr>\n",
       "  </tbody>\n",
       "</table>\n",
       "<p>200 rows × 2 columns</p>\n",
       "</div>"
      ],
      "text/plain": [
       "    news  label\n",
       "0             0\n",
       "1             0\n",
       "2             0\n",
       "3             0\n",
       "4             0\n",
       "..   ...    ...\n",
       "195           4\n",
       "196           4\n",
       "197           4\n",
       "198           4\n",
       "199           4\n",
       "\n",
       "[200 rows x 2 columns]"
      ]
     },
     "execution_count": 33,
     "metadata": {},
     "output_type": "execute_result"
    }
   ],
   "source": [
    "pd.DataFrame({\"news\":news, \"label\":label})"
   ]
  },
  {
   "cell_type": "code",
   "execution_count": 65,
   "id": "d0d94321-0fb2-42cf-aec3-c7bd6507c21f",
   "metadata": {},
   "outputs": [],
   "source": [
    "from selenium import webdriver\n",
    "browser = webdriver.Chrome()\n",
    "browser.maximize_window()"
   ]
  },
  {
   "cell_type": "code",
   "execution_count": 66,
   "id": "f1a0bcab-ddd9-4877-aba2-76fcb0ca7560",
   "metadata": {},
   "outputs": [],
   "source": [
    "url = \"https://blog.naver.com/PostView.naver?blogId=chunsa0127&logNo=222439908488&from=search&redirect=Log&widgetTypeCall=true&directAccess=false\"\n",
    "browser.get(url)"
   ]
  },
  {
   "cell_type": "code",
   "execution_count": 67,
   "id": "e24381c8-ab02-40c5-8b17-400f25dcb626",
   "metadata": {},
   "outputs": [],
   "source": [
    "# 지정한 위치로 스크롤 내리기\n",
    "# 모니터(해상도) 높이인 1080 위치로 스크롤 내리기\n",
    "browser.execute_script(\"window.scrollTo(0, 1080)\") # 1920 x 1080\n",
    "browser.execute_script(\"window.scrollTo(0, 2080)\")"
   ]
  },
  {
   "cell_type": "code",
   "execution_count": 68,
   "id": "9f439c31-08e7-4440-b98f-5ee4e1b857f5",
   "metadata": {},
   "outputs": [
    {
     "name": "stdout",
     "output_type": "stream",
     "text": [
      "스크롤 완료\n"
     ]
    }
   ],
   "source": [
    "# 화면 가장 아래로 스크롤 내리기\n",
    "# browser.execute_script(\"window.scrollTo(0, document.body.scrollHeight)\")\n",
    "\n",
    "import time\n",
    "interval = 3 # 5초에 한번씩 스크롤 내림\n",
    "\n",
    "# 현재 문서 높이를 가져와서 저장\n",
    "prev_height = browser.execute_script(\"return document.body.scrollHeight\")\n",
    "\n",
    "# 반복 수행\n",
    "while True:\n",
    "    # 스크롤을 가장 아래로 내림\n",
    "    browser.execute_script(\"window.scrollTo(0, document.body.scrollHeight)\")\n",
    "\n",
    "    # 페이지 로딩 대기\n",
    "    time.sleep(interval)\n",
    "\n",
    "    # 현재 문서 높이를 가져와서 저장\n",
    "    curr_height = browser.execute_script(\"return document.body.scrollHeight\")\n",
    "    if curr_height == prev_height:\n",
    "        break\n",
    "\n",
    "    prev_height = curr_height\n",
    "\n",
    "print(\"스크롤 완료\")"
   ]
  },
  {
   "cell_type": "code",
   "execution_count": null,
   "id": "fc7278a1-1c07-4709-93a3-da0298a07aab",
   "metadata": {},
   "outputs": [],
   "source": [
    "# browser.page_source : 최종 html"
   ]
  },
  {
   "cell_type": "code",
   "execution_count": 72,
   "id": "39d92bc8-5120-46a9-b0af-37d5283c767c",
   "metadata": {},
   "outputs": [
    {
     "ename": "NoSuchWindowException",
     "evalue": "Message: no such window: target window already closed\nfrom unknown error: web view not found\n  (Session info: chrome=115.0.5790.171)\nStacktrace:\nBacktrace:\n\tGetHandleVerifier [0x00007FF74DC24A62+57106]\n\t(No symbol) [0x00007FF74DB9CF52]\n\t(No symbol) [0x00007FF74DA6E2CB]\n\t(No symbol) [0x00007FF74DA4DEB9]\n\t(No symbol) [0x00007FF74DACAE07]\n\t(No symbol) [0x00007FF74DADDBEF]\n\t(No symbol) [0x00007FF74DAC6793]\n\t(No symbol) [0x00007FF74DA9CE81]\n\t(No symbol) [0x00007FF74DA9E064]\n\tGetHandleVerifier [0x00007FF74DED4222+2873042]\n\tGetHandleVerifier [0x00007FF74DF26590+3209792]\n\tGetHandleVerifier [0x00007FF74DF1F3AF+3180639]\n\tGetHandleVerifier [0x00007FF74DCB5F25+652245]\n\t(No symbol) [0x00007FF74DBA8618]\n\t(No symbol) [0x00007FF74DBA47C4]\n\t(No symbol) [0x00007FF74DBA48BC]\n\t(No symbol) [0x00007FF74DB94C33]\n\tBaseThreadInitThunk [0x00007FFFE9CE7614+20]\n\tRtlUserThreadStart [0x00007FFFE9E226B1+33]\n",
     "output_type": "error",
     "traceback": [
      "\u001b[1;31m---------------------------------------------------------------------------\u001b[0m",
      "\u001b[1;31mNoSuchWindowException\u001b[0m                     Traceback (most recent call last)",
      "Cell \u001b[1;32mIn[72], line 6\u001b[0m\n\u001b[0;32m      3\u001b[0m \u001b[38;5;28;01mfrom\u001b[39;00m \u001b[38;5;21;01mbs4\u001b[39;00m \u001b[38;5;28;01mimport\u001b[39;00m BeautifulSoup\n\u001b[0;32m      4\u001b[0m \u001b[38;5;66;03m#res=requests.get(url)\u001b[39;00m\n\u001b[0;32m      5\u001b[0m \u001b[38;5;66;03m#soup=BeautifulSoup(res.text,\"html\")\u001b[39;00m\n\u001b[1;32m----> 6\u001b[0m soup \u001b[38;5;241m=\u001b[39m BeautifulSoup(\u001b[43mbrowser\u001b[49m\u001b[38;5;241;43m.\u001b[39;49m\u001b[43mpage_source\u001b[49m, \u001b[38;5;124m\"\u001b[39m\u001b[38;5;124mhtml\u001b[39m\u001b[38;5;124m\"\u001b[39m)\n",
      "File \u001b[1;32m~\\AppData\\Local\\Programs\\Python\\Python311\\Lib\\site-packages\\selenium\\webdriver\\remote\\webdriver.py:446\u001b[0m, in \u001b[0;36mWebDriver.page_source\u001b[1;34m(self)\u001b[0m\n\u001b[0;32m    437\u001b[0m \u001b[38;5;129m@property\u001b[39m\n\u001b[0;32m    438\u001b[0m \u001b[38;5;28;01mdef\u001b[39;00m \u001b[38;5;21mpage_source\u001b[39m(\u001b[38;5;28mself\u001b[39m) \u001b[38;5;241m-\u001b[39m\u001b[38;5;241m>\u001b[39m \u001b[38;5;28mstr\u001b[39m:\n\u001b[0;32m    439\u001b[0m \u001b[38;5;250m    \u001b[39m\u001b[38;5;124;03m\"\"\"Gets the source of the current page.\u001b[39;00m\n\u001b[0;32m    440\u001b[0m \n\u001b[0;32m    441\u001b[0m \u001b[38;5;124;03m    :Usage:\u001b[39;00m\n\u001b[1;32m   (...)\u001b[0m\n\u001b[0;32m    444\u001b[0m \u001b[38;5;124;03m            driver.page_source\u001b[39;00m\n\u001b[0;32m    445\u001b[0m \u001b[38;5;124;03m    \"\"\"\u001b[39;00m\n\u001b[1;32m--> 446\u001b[0m     \u001b[38;5;28;01mreturn\u001b[39;00m \u001b[38;5;28;43mself\u001b[39;49m\u001b[38;5;241;43m.\u001b[39;49m\u001b[43mexecute\u001b[49m\u001b[43m(\u001b[49m\u001b[43mCommand\u001b[49m\u001b[38;5;241;43m.\u001b[39;49m\u001b[43mGET_PAGE_SOURCE\u001b[49m\u001b[43m)\u001b[49m[\u001b[38;5;124m\"\u001b[39m\u001b[38;5;124mvalue\u001b[39m\u001b[38;5;124m\"\u001b[39m]\n",
      "File \u001b[1;32m~\\AppData\\Local\\Programs\\Python\\Python311\\Lib\\site-packages\\selenium\\webdriver\\remote\\webdriver.py:345\u001b[0m, in \u001b[0;36mWebDriver.execute\u001b[1;34m(self, driver_command, params)\u001b[0m\n\u001b[0;32m    343\u001b[0m response \u001b[38;5;241m=\u001b[39m \u001b[38;5;28mself\u001b[39m\u001b[38;5;241m.\u001b[39mcommand_executor\u001b[38;5;241m.\u001b[39mexecute(driver_command, params)\n\u001b[0;32m    344\u001b[0m \u001b[38;5;28;01mif\u001b[39;00m response:\n\u001b[1;32m--> 345\u001b[0m     \u001b[38;5;28;43mself\u001b[39;49m\u001b[38;5;241;43m.\u001b[39;49m\u001b[43merror_handler\u001b[49m\u001b[38;5;241;43m.\u001b[39;49m\u001b[43mcheck_response\u001b[49m\u001b[43m(\u001b[49m\u001b[43mresponse\u001b[49m\u001b[43m)\u001b[49m\n\u001b[0;32m    346\u001b[0m     response[\u001b[38;5;124m\"\u001b[39m\u001b[38;5;124mvalue\u001b[39m\u001b[38;5;124m\"\u001b[39m] \u001b[38;5;241m=\u001b[39m \u001b[38;5;28mself\u001b[39m\u001b[38;5;241m.\u001b[39m_unwrap_value(response\u001b[38;5;241m.\u001b[39mget(\u001b[38;5;124m\"\u001b[39m\u001b[38;5;124mvalue\u001b[39m\u001b[38;5;124m\"\u001b[39m, \u001b[38;5;28;01mNone\u001b[39;00m))\n\u001b[0;32m    347\u001b[0m     \u001b[38;5;28;01mreturn\u001b[39;00m response\n",
      "File \u001b[1;32m~\\AppData\\Local\\Programs\\Python\\Python311\\Lib\\site-packages\\selenium\\webdriver\\remote\\errorhandler.py:229\u001b[0m, in \u001b[0;36mErrorHandler.check_response\u001b[1;34m(self, response)\u001b[0m\n\u001b[0;32m    227\u001b[0m         alert_text \u001b[38;5;241m=\u001b[39m value[\u001b[38;5;124m\"\u001b[39m\u001b[38;5;124malert\u001b[39m\u001b[38;5;124m\"\u001b[39m]\u001b[38;5;241m.\u001b[39mget(\u001b[38;5;124m\"\u001b[39m\u001b[38;5;124mtext\u001b[39m\u001b[38;5;124m\"\u001b[39m)\n\u001b[0;32m    228\u001b[0m     \u001b[38;5;28;01mraise\u001b[39;00m exception_class(message, screen, stacktrace, alert_text)  \u001b[38;5;66;03m# type: ignore[call-arg]  # mypy is not smart enough here\u001b[39;00m\n\u001b[1;32m--> 229\u001b[0m \u001b[38;5;28;01mraise\u001b[39;00m exception_class(message, screen, stacktrace)\n",
      "\u001b[1;31mNoSuchWindowException\u001b[0m: Message: no such window: target window already closed\nfrom unknown error: web view not found\n  (Session info: chrome=115.0.5790.171)\nStacktrace:\nBacktrace:\n\tGetHandleVerifier [0x00007FF74DC24A62+57106]\n\t(No symbol) [0x00007FF74DB9CF52]\n\t(No symbol) [0x00007FF74DA6E2CB]\n\t(No symbol) [0x00007FF74DA4DEB9]\n\t(No symbol) [0x00007FF74DACAE07]\n\t(No symbol) [0x00007FF74DADDBEF]\n\t(No symbol) [0x00007FF74DAC6793]\n\t(No symbol) [0x00007FF74DA9CE81]\n\t(No symbol) [0x00007FF74DA9E064]\n\tGetHandleVerifier [0x00007FF74DED4222+2873042]\n\tGetHandleVerifier [0x00007FF74DF26590+3209792]\n\tGetHandleVerifier [0x00007FF74DF1F3AF+3180639]\n\tGetHandleVerifier [0x00007FF74DCB5F25+652245]\n\t(No symbol) [0x00007FF74DBA8618]\n\t(No symbol) [0x00007FF74DBA47C4]\n\t(No symbol) [0x00007FF74DBA48BC]\n\t(No symbol) [0x00007FF74DB94C33]\n\tBaseThreadInitThunk [0x00007FFFE9CE7614+20]\n\tRtlUserThreadStart [0x00007FFFE9E226B1+33]\n"
     ]
    }
   ],
   "source": [
    "# 강사님 코드\n",
    "import requests\n",
    "from bs4 import BeautifulSoup\n",
    "#res=requests.get(url)\n",
    "#soup=BeautifulSoup(res.text,\"lxml\")\n",
    "soup = BeautifulSoup(browser.page_source, \"lxml\")"
   ]
  },
  {
   "cell_type": "code",
   "execution_count": 70,
   "id": "113a9574-bc38-4d00-85b4-bcd4c73d518b",
   "metadata": {},
   "outputs": [
    {
     "ename": "NameError",
     "evalue": "name 'soup' is not defined",
     "output_type": "error",
     "traceback": [
      "\u001b[1;31m---------------------------------------------------------------------------\u001b[0m",
      "\u001b[1;31mNameError\u001b[0m                                 Traceback (most recent call last)",
      "Cell \u001b[1;32mIn[70], line 1\u001b[0m\n\u001b[1;32m----> 1\u001b[0m \u001b[43msoup\u001b[49m()\n",
      "\u001b[1;31mNameError\u001b[0m: name 'soup' is not defined"
     ]
    }
   ],
   "source": [
    "soup()"
   ]
  },
  {
   "cell_type": "raw",
   "id": "7eb537af-0ef0-4667-8931-c8dc4e6d43ca",
   "metadata": {},
   "source": [
    "# 실습\n",
    "# 1.동물 구글링\n",
    "# 2.이미지 클릭 -> url복사\n",
    "# 3.셀레니움으로 스크롤 내리기\n",
    "# 4.끝까지 내린 html응ㄹ 뷰티풀숩으로 이미지 태그 접근\n",
    "# 5.폴더에 이미지 저장\n",
    "\n",
    "# point: 키를 중요시 하기. k=0, pixcel=100<1001<10010S"
   ]
  },
  {
   "cell_type": "code",
   "execution_count": 73,
   "id": "be09330f-f049-4be5-bd75-131f797ba977",
   "metadata": {},
   "outputs": [],
   "source": [
    "# 구글에서 쿼카 이미지 검색\n",
    "browser=webdriver.Chrome()\n",
    "browser.get(\"https://www.google.com/search?sca_esv=555768166&sxsrf=AB5stBicVtDp63d3J0N7iWV_eu45XE-LSw:1691727245147&q=%EC%BF%BC%EC%B9%B4&tbm=isch&source=lnms&sa=X&ved=2ahUKEwiDt4OM39OAAxVHgFYBHSCqAXkQ0pQJegQIDRAB&biw=949&bih=729&dpr=1\")"
   ]
  },
  {
   "cell_type": "code",
   "execution_count": null,
   "id": "36f93162-ab35-464b-90d0-04f5bbca65c4",
   "metadata": {},
   "outputs": [],
   "source": [
    "# > 이 밑에 있는 것을 선택하고싶을 때, > a.점은 a안의 속성을 보고싶을 때 사용\n",
    "import time     #움직이는 시간 걸기\n",
    "img=[]\n",
    "class=[]\n",
    "\n",
    "# elem = browser.find_element(by=By.XPATH, value='//*[@id=\"query\"]')\n",
    "for i, tab in enumerate():\n",
    "    elem = browser.find_element(by=By.XPATH, value='//*[@id=\"islrg\"]/div[1]/div[10]/a[1]/div[1]/img)')\n",
    "    elem.click()\n",
    "    time.sleep(1)     #1초\n",
    "    lis = browser.find_elements(By.CSS_SELECTOR, \".list_txt > li > a.link_txt\")    \n",
    "# .하고 들어가면 class 속성임\n",
    "# browser.find_elements(by=BY.CLASS_NAME, value=\"link_txt\")  다 찾을땐 s를 붙인다\n",
    "\n",
    "    for li in lis:\n",
    "        if len(li.text):\n",
    "            continue\n",
    "        news.append(li.text)\n",
    "        label.append(i)\n",
    "\n",
    "print(news, label)\n",
    "browser.close()"
   ]
  },
  {
   "cell_type": "code",
   "execution_count": 74,
   "id": "82ee7954-5c81-4aac-8b3c-682a62f607f3",
   "metadata": {},
   "outputs": [
    {
     "name": "stdin",
     "output_type": "stream",
     "text": [
      "검색어를 입력하세요:  쿼카\n"
     ]
    },
    {
     "name": "stdout",
     "output_type": "stream",
     "text": [
      "스크롤 완료\n"
     ]
    }
   ],
   "source": [
    "# ★ 승민님 정답 코드 ★\n",
    "# 동물 이미지 크롤링 미션 코드(셀레니엄)\n",
    "\n",
    "import pandas as pd\n",
    "from selenium import webdriver\n",
    "from selenium.webdriver.common.by import By\n",
    "from selenium.webdriver.common.keys import Keys\n",
    "import time\n",
    "from bs4 import BeautifulSoup\n",
    "import requests\n",
    "import os\n",
    "\n",
    "browser = webdriver.Chrome()\n",
    "browser.get('http://google.com')\n",
    "\n",
    "# 검색창 이동\n",
    "search = browser.find_element(by=By.ID, value=\"APjFqb\")\n",
    "# 검색어 입력\n",
    "animal = input(\"검색어를 입력하세요: \")\n",
    "search.send_keys(animal)\n",
    "# 엔터키 지정\n",
    "search.send_keys(Keys.ENTER)\n",
    "# 이미지 탭 이동\n",
    "img_tab = browser.find_element(by=By.CLASS_NAME, value='LatpMc.nPDzT.T3FoJb')\n",
    "# 엔터키 지정\n",
    "img_tab.send_keys(Keys.ENTER)\n",
    "# 화면 가장 아래로 스크롤 내리기\n",
    "while True:\n",
    "    # 스크롤을 가장 아래로 내림\n",
    "    browser.execute_script(\"window.scrollTo(0, document.body.scrollHeight)\")\n",
    "\n",
    "    # 페이지 로딩 대기\n",
    "    time.sleep(interval)\n",
    "\n",
    "    # 현재 문서 높이를 가져와서 저장\n",
    "    curr_height = browser.execute_script(\"return document.body.scrollHeight\")\n",
    "    if curr_height == prev_height:\n",
    "        break\n",
    "\n",
    "    prev_height = curr_height\n",
    "\n",
    "print(\"스크롤 완료\")\n",
    "\n",
    "url = f\"https://www.google.com/search?sca_esv=555778131&q={animal}&tbm=isch&source=lnms&sa=X&ved=2ahUKEwishvnj5tOAAxWZ0GEKHSL3DagQ0pQJegQICBAB&biw=1036&bih=667&dpr=1.25\"\n",
    "\n",
    "browser = webdriver.Chrome()\n",
    "browser.get(url)\n",
    "\n",
    "import os\n",
    "if not os.path.exists(f\"{animal}\"):\n",
    "    os.makedirs(f\"{animal}\")\n",
    "\n",
    "soup = BeautifulSoup(browser.page_source,\"html.parser\")\n",
    "img_set = soup.find_all(\"img\")\n",
    "for i,img in enumerate(img_set):\n",
    "    try:\n",
    "        res = requests.get(img['src'])\n",
    "        with open(f\"./{animal}/{animal}_{i}.jpg\", \"wb\") as f:\n",
    "            f.write(res.content)\n",
    "    except:\n",
    "        continue"
   ]
  },
  {
   "cell_type": "code",
   "execution_count": null,
   "id": "71ec887d-562d-4cf8-a220-6d781728c63e",
   "metadata": {},
   "outputs": [],
   "source": []
  },
  {
   "cell_type": "code",
   "execution_count": null,
   "id": "3d006f83-f829-49f1-a81b-003df6e3df31",
   "metadata": {},
   "outputs": [],
   "source": []
  }
 ],
 "metadata": {
  "kernelspec": {
   "display_name": "Python 3 (ipykernel)",
   "language": "python",
   "name": "python3"
  },
  "language_info": {
   "codemirror_mode": {
    "name": "ipython",
    "version": 3
   },
   "file_extension": ".py",
   "mimetype": "text/x-python",
   "name": "python",
   "nbconvert_exporter": "python",
   "pygments_lexer": "ipython3",
   "version": "3.11.4"
  }
 },
 "nbformat": 4,
 "nbformat_minor": 5
}
